{
 "cells": [
  {
   "cell_type": "markdown",
   "metadata": {},
   "source": [
    "# Data Cleaning and Importing"
   ]
  },
  {
   "cell_type": "code",
   "execution_count": 27,
   "metadata": {},
   "outputs": [],
   "source": [
    "import pandas as pd\n",
    "import numpy as np\n",
    "import matplotlib.pyplot as plt\n",
    "import seaborn as sns"
   ]
  },
  {
   "cell_type": "markdown",
   "metadata": {},
   "source": [
    "## Import the Data"
   ]
  },
  {
   "cell_type": "code",
   "execution_count": 28,
   "metadata": {},
   "outputs": [
    {
     "data": {
      "text/plain": "         id                            listing_url       scrape_id  \\\n0  12147973  https://www.airbnb.com/rooms/12147973  20160906204935   \n1   3075044   https://www.airbnb.com/rooms/3075044  20160906204935   \n2      6976      https://www.airbnb.com/rooms/6976  20160906204935   \n3   1436513   https://www.airbnb.com/rooms/1436513  20160906204935   \n4   7651065   https://www.airbnb.com/rooms/7651065  20160906204935   \n\n  last_scraped                                           name  \\\n0   2016-09-07                     Sunny Bungalow in the City   \n1   2016-09-07              Charming room in pet friendly apt   \n2   2016-09-07               Mexican Folk Art Haven in Boston   \n3   2016-09-07  Spacious Sunny Bedroom Suite in Historic Home   \n4   2016-09-07                            Come Home to Boston   \n\n                                             summary  \\\n0  Cozy, sunny, family home.  Master bedroom high...   \n1  Charming and quiet room in a second floor 1910...   \n2  Come stay with a friendly, middle-aged guy in ...   \n3  Come experience the comforts of home away from...   \n4  My comfy, clean and relaxing home is one block...   \n\n                                               space  \\\n0  The house has an open and cozy feel at the sam...   \n1  Small but cozy and quite room with a full size...   \n2  Come stay with a friendly, middle-aged guy in ...   \n3  Most places you find in Boston are small howev...   \n4  Clean, attractive, private room, one block fro...   \n\n                                         description experiences_offered  \\\n0  Cozy, sunny, family home.  Master bedroom high...                none   \n1  Charming and quiet room in a second floor 1910...                none   \n2  Come stay with a friendly, middle-aged guy in ...                none   \n3  Come experience the comforts of home away from...                none   \n4  My comfy, clean and relaxing home is one block...                none   \n\n                               neighborhood_overview  ... review_scores_value  \\\n0  Roslindale is quiet, convenient and friendly. ...  ...                 NaN   \n1  The room is in Roslindale, a diverse and prima...  ...                 9.0   \n2  The LOCATION: Roslindale is a safe and diverse...  ...                10.0   \n3  Roslindale is a lovely little neighborhood loc...  ...                10.0   \n4  I love the proximity to downtown, the neighbor...  ...                10.0   \n\n  requires_license license jurisdiction_names instant_bookable  \\\n0                f     NaN                NaN                f   \n1                f     NaN                NaN                t   \n2                f     NaN                NaN                f   \n3                f     NaN                NaN                f   \n4                f     NaN                NaN                f   \n\n  cancellation_policy require_guest_profile_picture  \\\n0            moderate                             f   \n1            moderate                             f   \n2            moderate                             t   \n3            moderate                             f   \n4            flexible                             f   \n\n  require_guest_phone_verification calculated_host_listings_count  \\\n0                                f                              1   \n1                                f                              1   \n2                                f                              1   \n3                                f                              1   \n4                                f                              1   \n\n   reviews_per_month  \n0                NaN  \n1               1.30  \n2               0.47  \n3               1.00  \n4               2.25  \n\n[5 rows x 95 columns]",
      "text/html": "<div>\n<style scoped>\n    .dataframe tbody tr th:only-of-type {\n        vertical-align: middle;\n    }\n\n    .dataframe tbody tr th {\n        vertical-align: top;\n    }\n\n    .dataframe thead th {\n        text-align: right;\n    }\n</style>\n<table border=\"1\" class=\"dataframe\">\n  <thead>\n    <tr style=\"text-align: right;\">\n      <th></th>\n      <th>id</th>\n      <th>listing_url</th>\n      <th>scrape_id</th>\n      <th>last_scraped</th>\n      <th>name</th>\n      <th>summary</th>\n      <th>space</th>\n      <th>description</th>\n      <th>experiences_offered</th>\n      <th>neighborhood_overview</th>\n      <th>...</th>\n      <th>review_scores_value</th>\n      <th>requires_license</th>\n      <th>license</th>\n      <th>jurisdiction_names</th>\n      <th>instant_bookable</th>\n      <th>cancellation_policy</th>\n      <th>require_guest_profile_picture</th>\n      <th>require_guest_phone_verification</th>\n      <th>calculated_host_listings_count</th>\n      <th>reviews_per_month</th>\n    </tr>\n  </thead>\n  <tbody>\n    <tr>\n      <th>0</th>\n      <td>12147973</td>\n      <td>https://www.airbnb.com/rooms/12147973</td>\n      <td>20160906204935</td>\n      <td>2016-09-07</td>\n      <td>Sunny Bungalow in the City</td>\n      <td>Cozy, sunny, family home.  Master bedroom high...</td>\n      <td>The house has an open and cozy feel at the sam...</td>\n      <td>Cozy, sunny, family home.  Master bedroom high...</td>\n      <td>none</td>\n      <td>Roslindale is quiet, convenient and friendly. ...</td>\n      <td>...</td>\n      <td>NaN</td>\n      <td>f</td>\n      <td>NaN</td>\n      <td>NaN</td>\n      <td>f</td>\n      <td>moderate</td>\n      <td>f</td>\n      <td>f</td>\n      <td>1</td>\n      <td>NaN</td>\n    </tr>\n    <tr>\n      <th>1</th>\n      <td>3075044</td>\n      <td>https://www.airbnb.com/rooms/3075044</td>\n      <td>20160906204935</td>\n      <td>2016-09-07</td>\n      <td>Charming room in pet friendly apt</td>\n      <td>Charming and quiet room in a second floor 1910...</td>\n      <td>Small but cozy and quite room with a full size...</td>\n      <td>Charming and quiet room in a second floor 1910...</td>\n      <td>none</td>\n      <td>The room is in Roslindale, a diverse and prima...</td>\n      <td>...</td>\n      <td>9.0</td>\n      <td>f</td>\n      <td>NaN</td>\n      <td>NaN</td>\n      <td>t</td>\n      <td>moderate</td>\n      <td>f</td>\n      <td>f</td>\n      <td>1</td>\n      <td>1.30</td>\n    </tr>\n    <tr>\n      <th>2</th>\n      <td>6976</td>\n      <td>https://www.airbnb.com/rooms/6976</td>\n      <td>20160906204935</td>\n      <td>2016-09-07</td>\n      <td>Mexican Folk Art Haven in Boston</td>\n      <td>Come stay with a friendly, middle-aged guy in ...</td>\n      <td>Come stay with a friendly, middle-aged guy in ...</td>\n      <td>Come stay with a friendly, middle-aged guy in ...</td>\n      <td>none</td>\n      <td>The LOCATION: Roslindale is a safe and diverse...</td>\n      <td>...</td>\n      <td>10.0</td>\n      <td>f</td>\n      <td>NaN</td>\n      <td>NaN</td>\n      <td>f</td>\n      <td>moderate</td>\n      <td>t</td>\n      <td>f</td>\n      <td>1</td>\n      <td>0.47</td>\n    </tr>\n    <tr>\n      <th>3</th>\n      <td>1436513</td>\n      <td>https://www.airbnb.com/rooms/1436513</td>\n      <td>20160906204935</td>\n      <td>2016-09-07</td>\n      <td>Spacious Sunny Bedroom Suite in Historic Home</td>\n      <td>Come experience the comforts of home away from...</td>\n      <td>Most places you find in Boston are small howev...</td>\n      <td>Come experience the comforts of home away from...</td>\n      <td>none</td>\n      <td>Roslindale is a lovely little neighborhood loc...</td>\n      <td>...</td>\n      <td>10.0</td>\n      <td>f</td>\n      <td>NaN</td>\n      <td>NaN</td>\n      <td>f</td>\n      <td>moderate</td>\n      <td>f</td>\n      <td>f</td>\n      <td>1</td>\n      <td>1.00</td>\n    </tr>\n    <tr>\n      <th>4</th>\n      <td>7651065</td>\n      <td>https://www.airbnb.com/rooms/7651065</td>\n      <td>20160906204935</td>\n      <td>2016-09-07</td>\n      <td>Come Home to Boston</td>\n      <td>My comfy, clean and relaxing home is one block...</td>\n      <td>Clean, attractive, private room, one block fro...</td>\n      <td>My comfy, clean and relaxing home is one block...</td>\n      <td>none</td>\n      <td>I love the proximity to downtown, the neighbor...</td>\n      <td>...</td>\n      <td>10.0</td>\n      <td>f</td>\n      <td>NaN</td>\n      <td>NaN</td>\n      <td>f</td>\n      <td>flexible</td>\n      <td>f</td>\n      <td>f</td>\n      <td>1</td>\n      <td>2.25</td>\n    </tr>\n  </tbody>\n</table>\n<p>5 rows × 95 columns</p>\n</div>"
     },
     "execution_count": 28,
     "metadata": {},
     "output_type": "execute_result"
    }
   ],
   "source": [
    "listing_df = pd.read_csv(\"original_data/listings.csv\")\n",
    "listing_df.head()"
   ]
  },
  {
   "cell_type": "code",
   "execution_count": 29,
   "metadata": {},
   "outputs": [
    {
     "data": {
      "text/plain": "Index(['id', 'listing_url', 'scrape_id', 'last_scraped', 'name', 'summary',\n       'space', 'description', 'experiences_offered', 'neighborhood_overview',\n       'notes', 'transit', 'access', 'interaction', 'house_rules',\n       'thumbnail_url', 'medium_url', 'picture_url', 'xl_picture_url',\n       'host_id', 'host_url', 'host_name', 'host_since', 'host_location',\n       'host_about', 'host_response_time', 'host_response_rate',\n       'host_acceptance_rate', 'host_is_superhost', 'host_thumbnail_url',\n       'host_picture_url', 'host_neighbourhood', 'host_listings_count',\n       'host_total_listings_count', 'host_verifications',\n       'host_has_profile_pic', 'host_identity_verified', 'street',\n       'neighbourhood', 'neighbourhood_cleansed',\n       'neighbourhood_group_cleansed', 'city', 'state', 'zipcode', 'market',\n       'smart_location', 'country_code', 'country', 'latitude', 'longitude',\n       'is_location_exact', 'property_type', 'room_type', 'accommodates',\n       'bathrooms', 'bedrooms', 'beds', 'bed_type', 'amenities', 'square_feet',\n       'price', 'weekly_price', 'monthly_price', 'security_deposit',\n       'cleaning_fee', 'guests_included', 'extra_people', 'minimum_nights',\n       'maximum_nights', 'calendar_updated', 'has_availability',\n       'availability_30', 'availability_60', 'availability_90',\n       'availability_365', 'calendar_last_scraped', 'number_of_reviews',\n       'first_review', 'last_review', 'review_scores_rating',\n       'review_scores_accuracy', 'review_scores_cleanliness',\n       'review_scores_checkin', 'review_scores_communication',\n       'review_scores_location', 'review_scores_value', 'requires_license',\n       'license', 'jurisdiction_names', 'instant_bookable',\n       'cancellation_policy', 'require_guest_profile_picture',\n       'require_guest_phone_verification', 'calculated_host_listings_count',\n       'reviews_per_month'],\n      dtype='object')"
     },
     "execution_count": 29,
     "metadata": {},
     "output_type": "execute_result"
    }
   ],
   "source": [
    "listing_df.columns"
   ]
  },
  {
   "cell_type": "markdown",
   "metadata": {},
   "source": [
    "## Basic Data Cleaning"
   ]
  },
  {
   "cell_type": "code",
   "execution_count": 30,
   "metadata": {},
   "outputs": [
    {
     "data": {
      "text/plain": "                 id     scrape_id       host_id  host_listings_count  \\\ncount  3.585000e+03  3.585000e+03  3.585000e+03          3585.000000   \nmean   8.440875e+06  2.016091e+13  2.492311e+07            58.902371   \nstd    4.500787e+06  0.000000e+00  2.292781e+07           171.119663   \nmin    3.353000e+03  2.016091e+13  4.240000e+03             0.000000   \n25%    4.679319e+06  2.016091e+13  6.103425e+06             1.000000   \n50%    8.577620e+06  2.016091e+13  1.928100e+07             2.000000   \n75%    1.278953e+07  2.016091e+13  3.622147e+07             7.000000   \nmax    1.493346e+07  2.016091e+13  9.385411e+07           749.000000   \n\n       host_total_listings_count  neighbourhood_group_cleansed     latitude  \\\ncount                3585.000000                           0.0  3585.000000   \nmean                   58.902371                           NaN    42.340032   \nstd                   171.119663                           NaN     0.024403   \nmin                     0.000000                           NaN    42.235942   \n25%                     1.000000                           NaN    42.329995   \n50%                     2.000000                           NaN    42.345201   \n75%                     7.000000                           NaN    42.354685   \nmax                   749.000000                           NaN    42.389982   \n\n         longitude  accommodates    bathrooms  ...  review_scores_accuracy  \\\ncount  3585.000000   3585.000000  3571.000000  ...             2762.000000   \nmean    -71.084818      3.041283     1.221647  ...                9.431571   \nstd       0.031565      1.778929     0.501487  ...                0.931863   \nmin     -71.171789      1.000000     0.000000  ...                2.000000   \n25%     -71.105083      2.000000     1.000000  ...                9.000000   \n50%     -71.078429      2.000000     1.000000  ...               10.000000   \n75%     -71.062155      4.000000     1.000000  ...               10.000000   \nmax     -71.000100     16.000000     6.000000  ...               10.000000   \n\n       review_scores_cleanliness  review_scores_checkin  \\\ncount                2767.000000            2765.000000   \nmean                    9.258041               9.646293   \nstd                     1.168977               0.762753   \nmin                     2.000000               2.000000   \n25%                     9.000000               9.000000   \n50%                    10.000000              10.000000   \n75%                    10.000000              10.000000   \nmax                    10.000000              10.000000   \n\n       review_scores_communication  review_scores_location  \\\ncount                  2767.000000             2763.000000   \nmean                      9.646549                9.414043   \nstd                       0.735507                0.903436   \nmin                       4.000000                2.000000   \n25%                       9.000000                9.000000   \n50%                      10.000000               10.000000   \n75%                      10.000000               10.000000   \nmax                      10.000000               10.000000   \n\n       review_scores_value  license  jurisdiction_names  \\\ncount          2764.000000      0.0                 0.0   \nmean              9.168234      NaN                 NaN   \nstd               1.011116      NaN                 NaN   \nmin               2.000000      NaN                 NaN   \n25%               9.000000      NaN                 NaN   \n50%               9.000000      NaN                 NaN   \n75%              10.000000      NaN                 NaN   \nmax              10.000000      NaN                 NaN   \n\n       calculated_host_listings_count  reviews_per_month  \ncount                     3585.000000        2829.000000  \nmean                        12.733891           1.970908  \nstd                         29.415076           2.120561  \nmin                          1.000000           0.010000  \n25%                          1.000000           0.480000  \n50%                          2.000000           1.170000  \n75%                          6.000000           2.720000  \nmax                        136.000000          19.150000  \n\n[8 rows x 33 columns]",
      "text/html": "<div>\n<style scoped>\n    .dataframe tbody tr th:only-of-type {\n        vertical-align: middle;\n    }\n\n    .dataframe tbody tr th {\n        vertical-align: top;\n    }\n\n    .dataframe thead th {\n        text-align: right;\n    }\n</style>\n<table border=\"1\" class=\"dataframe\">\n  <thead>\n    <tr style=\"text-align: right;\">\n      <th></th>\n      <th>id</th>\n      <th>scrape_id</th>\n      <th>host_id</th>\n      <th>host_listings_count</th>\n      <th>host_total_listings_count</th>\n      <th>neighbourhood_group_cleansed</th>\n      <th>latitude</th>\n      <th>longitude</th>\n      <th>accommodates</th>\n      <th>bathrooms</th>\n      <th>...</th>\n      <th>review_scores_accuracy</th>\n      <th>review_scores_cleanliness</th>\n      <th>review_scores_checkin</th>\n      <th>review_scores_communication</th>\n      <th>review_scores_location</th>\n      <th>review_scores_value</th>\n      <th>license</th>\n      <th>jurisdiction_names</th>\n      <th>calculated_host_listings_count</th>\n      <th>reviews_per_month</th>\n    </tr>\n  </thead>\n  <tbody>\n    <tr>\n      <th>count</th>\n      <td>3.585000e+03</td>\n      <td>3.585000e+03</td>\n      <td>3.585000e+03</td>\n      <td>3585.000000</td>\n      <td>3585.000000</td>\n      <td>0.0</td>\n      <td>3585.000000</td>\n      <td>3585.000000</td>\n      <td>3585.000000</td>\n      <td>3571.000000</td>\n      <td>...</td>\n      <td>2762.000000</td>\n      <td>2767.000000</td>\n      <td>2765.000000</td>\n      <td>2767.000000</td>\n      <td>2763.000000</td>\n      <td>2764.000000</td>\n      <td>0.0</td>\n      <td>0.0</td>\n      <td>3585.000000</td>\n      <td>2829.000000</td>\n    </tr>\n    <tr>\n      <th>mean</th>\n      <td>8.440875e+06</td>\n      <td>2.016091e+13</td>\n      <td>2.492311e+07</td>\n      <td>58.902371</td>\n      <td>58.902371</td>\n      <td>NaN</td>\n      <td>42.340032</td>\n      <td>-71.084818</td>\n      <td>3.041283</td>\n      <td>1.221647</td>\n      <td>...</td>\n      <td>9.431571</td>\n      <td>9.258041</td>\n      <td>9.646293</td>\n      <td>9.646549</td>\n      <td>9.414043</td>\n      <td>9.168234</td>\n      <td>NaN</td>\n      <td>NaN</td>\n      <td>12.733891</td>\n      <td>1.970908</td>\n    </tr>\n    <tr>\n      <th>std</th>\n      <td>4.500787e+06</td>\n      <td>0.000000e+00</td>\n      <td>2.292781e+07</td>\n      <td>171.119663</td>\n      <td>171.119663</td>\n      <td>NaN</td>\n      <td>0.024403</td>\n      <td>0.031565</td>\n      <td>1.778929</td>\n      <td>0.501487</td>\n      <td>...</td>\n      <td>0.931863</td>\n      <td>1.168977</td>\n      <td>0.762753</td>\n      <td>0.735507</td>\n      <td>0.903436</td>\n      <td>1.011116</td>\n      <td>NaN</td>\n      <td>NaN</td>\n      <td>29.415076</td>\n      <td>2.120561</td>\n    </tr>\n    <tr>\n      <th>min</th>\n      <td>3.353000e+03</td>\n      <td>2.016091e+13</td>\n      <td>4.240000e+03</td>\n      <td>0.000000</td>\n      <td>0.000000</td>\n      <td>NaN</td>\n      <td>42.235942</td>\n      <td>-71.171789</td>\n      <td>1.000000</td>\n      <td>0.000000</td>\n      <td>...</td>\n      <td>2.000000</td>\n      <td>2.000000</td>\n      <td>2.000000</td>\n      <td>4.000000</td>\n      <td>2.000000</td>\n      <td>2.000000</td>\n      <td>NaN</td>\n      <td>NaN</td>\n      <td>1.000000</td>\n      <td>0.010000</td>\n    </tr>\n    <tr>\n      <th>25%</th>\n      <td>4.679319e+06</td>\n      <td>2.016091e+13</td>\n      <td>6.103425e+06</td>\n      <td>1.000000</td>\n      <td>1.000000</td>\n      <td>NaN</td>\n      <td>42.329995</td>\n      <td>-71.105083</td>\n      <td>2.000000</td>\n      <td>1.000000</td>\n      <td>...</td>\n      <td>9.000000</td>\n      <td>9.000000</td>\n      <td>9.000000</td>\n      <td>9.000000</td>\n      <td>9.000000</td>\n      <td>9.000000</td>\n      <td>NaN</td>\n      <td>NaN</td>\n      <td>1.000000</td>\n      <td>0.480000</td>\n    </tr>\n    <tr>\n      <th>50%</th>\n      <td>8.577620e+06</td>\n      <td>2.016091e+13</td>\n      <td>1.928100e+07</td>\n      <td>2.000000</td>\n      <td>2.000000</td>\n      <td>NaN</td>\n      <td>42.345201</td>\n      <td>-71.078429</td>\n      <td>2.000000</td>\n      <td>1.000000</td>\n      <td>...</td>\n      <td>10.000000</td>\n      <td>10.000000</td>\n      <td>10.000000</td>\n      <td>10.000000</td>\n      <td>10.000000</td>\n      <td>9.000000</td>\n      <td>NaN</td>\n      <td>NaN</td>\n      <td>2.000000</td>\n      <td>1.170000</td>\n    </tr>\n    <tr>\n      <th>75%</th>\n      <td>1.278953e+07</td>\n      <td>2.016091e+13</td>\n      <td>3.622147e+07</td>\n      <td>7.000000</td>\n      <td>7.000000</td>\n      <td>NaN</td>\n      <td>42.354685</td>\n      <td>-71.062155</td>\n      <td>4.000000</td>\n      <td>1.000000</td>\n      <td>...</td>\n      <td>10.000000</td>\n      <td>10.000000</td>\n      <td>10.000000</td>\n      <td>10.000000</td>\n      <td>10.000000</td>\n      <td>10.000000</td>\n      <td>NaN</td>\n      <td>NaN</td>\n      <td>6.000000</td>\n      <td>2.720000</td>\n    </tr>\n    <tr>\n      <th>max</th>\n      <td>1.493346e+07</td>\n      <td>2.016091e+13</td>\n      <td>9.385411e+07</td>\n      <td>749.000000</td>\n      <td>749.000000</td>\n      <td>NaN</td>\n      <td>42.389982</td>\n      <td>-71.000100</td>\n      <td>16.000000</td>\n      <td>6.000000</td>\n      <td>...</td>\n      <td>10.000000</td>\n      <td>10.000000</td>\n      <td>10.000000</td>\n      <td>10.000000</td>\n      <td>10.000000</td>\n      <td>10.000000</td>\n      <td>NaN</td>\n      <td>NaN</td>\n      <td>136.000000</td>\n      <td>19.150000</td>\n    </tr>\n  </tbody>\n</table>\n<p>8 rows × 33 columns</p>\n</div>"
     },
     "execution_count": 30,
     "metadata": {},
     "output_type": "execute_result"
    }
   ],
   "source": [
    "listing_df.describe()"
   ]
  },
  {
   "cell_type": "code",
   "execution_count": 31,
   "metadata": {},
   "outputs": [
    {
     "name": "stdout",
     "output_type": "stream",
     "text": [
      "<class 'pandas.core.frame.DataFrame'>\n",
      "RangeIndex: 3585 entries, 0 to 3584\n",
      "Data columns (total 95 columns):\n",
      " #   Column                            Non-Null Count  Dtype  \n",
      "---  ------                            --------------  -----  \n",
      " 0   id                                3585 non-null   int64  \n",
      " 1   listing_url                       3585 non-null   object \n",
      " 2   scrape_id                         3585 non-null   int64  \n",
      " 3   last_scraped                      3585 non-null   object \n",
      " 4   name                              3585 non-null   object \n",
      " 5   summary                           3442 non-null   object \n",
      " 6   space                             2528 non-null   object \n",
      " 7   description                       3585 non-null   object \n",
      " 8   experiences_offered               3585 non-null   object \n",
      " 9   neighborhood_overview             2170 non-null   object \n",
      " 10  notes                             1610 non-null   object \n",
      " 11  transit                           2295 non-null   object \n",
      " 12  access                            2096 non-null   object \n",
      " 13  interaction                       2031 non-null   object \n",
      " 14  house_rules                       2393 non-null   object \n",
      " 15  thumbnail_url                     2986 non-null   object \n",
      " 16  medium_url                        2986 non-null   object \n",
      " 17  picture_url                       3585 non-null   object \n",
      " 18  xl_picture_url                    2986 non-null   object \n",
      " 19  host_id                           3585 non-null   int64  \n",
      " 20  host_url                          3585 non-null   object \n",
      " 21  host_name                         3585 non-null   object \n",
      " 22  host_since                        3585 non-null   object \n",
      " 23  host_location                     3574 non-null   object \n",
      " 24  host_about                        2276 non-null   object \n",
      " 25  host_response_time                3114 non-null   object \n",
      " 26  host_response_rate                3114 non-null   object \n",
      " 27  host_acceptance_rate              3114 non-null   object \n",
      " 28  host_is_superhost                 3585 non-null   object \n",
      " 29  host_thumbnail_url                3585 non-null   object \n",
      " 30  host_picture_url                  3585 non-null   object \n",
      " 31  host_neighbourhood                3246 non-null   object \n",
      " 32  host_listings_count               3585 non-null   int64  \n",
      " 33  host_total_listings_count         3585 non-null   int64  \n",
      " 34  host_verifications                3585 non-null   object \n",
      " 35  host_has_profile_pic              3585 non-null   object \n",
      " 36  host_identity_verified            3585 non-null   object \n",
      " 37  street                            3585 non-null   object \n",
      " 38  neighbourhood                     3042 non-null   object \n",
      " 39  neighbourhood_cleansed            3585 non-null   object \n",
      " 40  neighbourhood_group_cleansed      0 non-null      float64\n",
      " 41  city                              3583 non-null   object \n",
      " 42  state                             3585 non-null   object \n",
      " 43  zipcode                           3547 non-null   object \n",
      " 44  market                            3571 non-null   object \n",
      " 45  smart_location                    3585 non-null   object \n",
      " 46  country_code                      3585 non-null   object \n",
      " 47  country                           3585 non-null   object \n",
      " 48  latitude                          3585 non-null   float64\n",
      " 49  longitude                         3585 non-null   float64\n",
      " 50  is_location_exact                 3585 non-null   object \n",
      " 51  property_type                     3582 non-null   object \n",
      " 52  room_type                         3585 non-null   object \n",
      " 53  accommodates                      3585 non-null   int64  \n",
      " 54  bathrooms                         3571 non-null   float64\n",
      " 55  bedrooms                          3575 non-null   float64\n",
      " 56  beds                              3576 non-null   float64\n",
      " 57  bed_type                          3585 non-null   object \n",
      " 58  amenities                         3585 non-null   object \n",
      " 59  square_feet                       56 non-null     float64\n",
      " 60  price                             3585 non-null   object \n",
      " 61  weekly_price                      892 non-null    object \n",
      " 62  monthly_price                     888 non-null    object \n",
      " 63  security_deposit                  1342 non-null   object \n",
      " 64  cleaning_fee                      2478 non-null   object \n",
      " 65  guests_included                   3585 non-null   int64  \n",
      " 66  extra_people                      3585 non-null   object \n",
      " 67  minimum_nights                    3585 non-null   int64  \n",
      " 68  maximum_nights                    3585 non-null   int64  \n",
      " 69  calendar_updated                  3585 non-null   object \n",
      " 70  has_availability                  0 non-null      float64\n",
      " 71  availability_30                   3585 non-null   int64  \n",
      " 72  availability_60                   3585 non-null   int64  \n",
      " 73  availability_90                   3585 non-null   int64  \n",
      " 74  availability_365                  3585 non-null   int64  \n",
      " 75  calendar_last_scraped             3585 non-null   object \n",
      " 76  number_of_reviews                 3585 non-null   int64  \n",
      " 77  first_review                      2829 non-null   object \n",
      " 78  last_review                       2829 non-null   object \n",
      " 79  review_scores_rating              2772 non-null   float64\n",
      " 80  review_scores_accuracy            2762 non-null   float64\n",
      " 81  review_scores_cleanliness         2767 non-null   float64\n",
      " 82  review_scores_checkin             2765 non-null   float64\n",
      " 83  review_scores_communication       2767 non-null   float64\n",
      " 84  review_scores_location            2763 non-null   float64\n",
      " 85  review_scores_value               2764 non-null   float64\n",
      " 86  requires_license                  3585 non-null   object \n",
      " 87  license                           0 non-null      float64\n",
      " 88  jurisdiction_names                0 non-null      float64\n",
      " 89  instant_bookable                  3585 non-null   object \n",
      " 90  cancellation_policy               3585 non-null   object \n",
      " 91  require_guest_profile_picture     3585 non-null   object \n",
      " 92  require_guest_phone_verification  3585 non-null   object \n",
      " 93  calculated_host_listings_count    3585 non-null   int64  \n",
      " 94  reviews_per_month                 2829 non-null   float64\n",
      "dtypes: float64(18), int64(15), object(62)\n",
      "memory usage: 2.6+ MB\n"
     ]
    }
   ],
   "source": [
    "listing_df.info()"
   ]
  },
  {
   "cell_type": "code",
   "execution_count": 32,
   "metadata": {},
   "outputs": [
    {
     "name": "stdout",
     "output_type": "stream",
     "text": [
      "The shape of listing DataFrame:  (3585, 95)\n"
     ]
    }
   ],
   "source": [
    "print(\"The shape of listing DataFrame: \", listing_df.shape)"
   ]
  },
  {
   "cell_type": "code",
   "execution_count": 33,
   "metadata": {},
   "outputs": [
    {
     "name": "stdout",
     "output_type": "stream",
     "text": [
      "Columns with null columns:  44\n"
     ]
    },
    {
     "data": {
      "text/plain": "summary                          143\nspace                           1057\nneighborhood_overview           1415\nnotes                           1975\ntransit                         1290\naccess                          1489\ninteraction                     1554\nhouse_rules                     1192\nthumbnail_url                    599\nmedium_url                       599\nxl_picture_url                   599\nhost_location                     11\nhost_about                      1309\nhost_response_time               471\nhost_response_rate               471\nhost_acceptance_rate             471\nhost_neighbourhood               339\nneighbourhood                    543\nneighbourhood_group_cleansed    3585\ncity                               2\nzipcode                           38\nmarket                            14\nproperty_type                      3\nbathrooms                         14\nbedrooms                          10\nbeds                               9\nsquare_feet                     3529\nweekly_price                    2693\nmonthly_price                   2697\nsecurity_deposit                2243\ncleaning_fee                    1107\nhas_availability                3585\nfirst_review                     756\nlast_review                      756\nreview_scores_rating             813\nreview_scores_accuracy           823\nreview_scores_cleanliness        818\nreview_scores_checkin            820\nreview_scores_communication      818\nreview_scores_location           822\nreview_scores_value              821\nlicense                         3585\njurisdiction_names              3585\nreviews_per_month                756\ndtype: int64"
     },
     "execution_count": 33,
     "metadata": {},
     "output_type": "execute_result"
    }
   ],
   "source": [
    "null_value = listing_df.isnull().sum()\n",
    "null_column = null_value[null_value > 0]\n",
    "print(\"Columns with null columns: \", len(null_column))\n",
    "null_column"
   ]
  },
  {
   "cell_type": "code",
   "execution_count": 34,
   "metadata": {},
   "outputs": [
    {
     "name": "stdout",
     "output_type": "stream",
     "text": [
      "Columns to be dropped:  14\n",
      "neighborhood_overview           1415\n",
      "notes                           1975\n",
      "transit                         1290\n",
      "access                          1489\n",
      "interaction                     1554\n",
      "host_about                      1309\n",
      "neighbourhood_group_cleansed    3585\n",
      "square_feet                     3529\n",
      "weekly_price                    2693\n",
      "monthly_price                   2697\n",
      "security_deposit                2243\n",
      "has_availability                3585\n",
      "license                         3585\n",
      "jurisdiction_names              3585\n",
      "dtype: int64\n"
     ]
    }
   ],
   "source": [
    "drop_columns = null_column[null_column > 1200]\n",
    "print(\"Columns to be dropped: \", len(drop_columns))\n",
    "print(drop_columns)\n",
    "\n",
    "listing_df.drop(drop_columns.index, axis=1, inplace=True)"
   ]
  },
  {
   "cell_type": "code",
   "execution_count": 35,
   "metadata": {},
   "outputs": [],
   "source": [
    "# Fill missing values with different strategies\n",
    "\n",
    "# For text data\n",
    "listing_df['summary'] = listing_df['summary'].fillna(\"No information provided\")\n",
    "listing_df['space'] = listing_df['space'].fillna(\"No information provided\")\n",
    "listing_df['house_rules'] = listing_df['house_rules'].fillna(\"No house rules provided\")\n",
    "listing_df['host_location'] = listing_df['host_location'].fillna(\"Unknown\")\n",
    "listing_df['thumbnail_url'] = listing_df['thumbnail_url'].fillna(\"\")\n",
    "listing_df['medium_url'] = listing_df['medium_url'].fillna(\"\")\n",
    "listing_df['xl_picture_url'] = listing_df['xl_picture_url'].fillna(\"\")\n",
    "\n",
    "# For numerical data\n",
    "listing_df['host_response_rate'] = (\n",
    "    listing_df['host_response_rate']\n",
    "    .str.rstrip('%')\n",
    "    .astype(float) / 100\n",
    ")\n",
    "listing_df['host_response_rate'] = listing_df['host_response_rate'].fillna(listing_df['host_response_rate'].median())\n",
    "listing_df['review_scores_rating'] = listing_df['review_scores_rating'].fillna(listing_df['review_scores_rating'].median())\n",
    "\n",
    "# For categorical data\n",
    "listing_df['property_type'] = listing_df['property_type'].fillna(\"Other\")\n",
    "listing_df['neighbourhood'] = listing_df['neighbourhood'].fillna(\"Unknown\")\n",
    "listing_df['market'] = listing_df['market'].fillna(\"Unknown\")\n",
    "listing_df['city'] = listing_df['city'].fillna(\"Unknown\")\n",
    "listing_df['zipcode'] = listing_df['zipcode'].fillna(\"Unknown\")\n",
    "\n",
    "# For host response time\n",
    "listing_df['host_response_time'] = listing_df['host_response_time'].fillna(\"unknown\")"
   ]
  },
  {
   "cell_type": "code",
   "execution_count": 36,
   "metadata": {},
   "outputs": [
    {
     "name": "stdout",
     "output_type": "stream",
     "text": [
      "Columns with null columns:  15\n"
     ]
    },
    {
     "data": {
      "text/plain": "host_acceptance_rate            471\nhost_neighbourhood              339\nbathrooms                        14\nbedrooms                         10\nbeds                              9\ncleaning_fee                   1107\nfirst_review                    756\nlast_review                     756\nreview_scores_accuracy          823\nreview_scores_cleanliness       818\nreview_scores_checkin           820\nreview_scores_communication     818\nreview_scores_location          822\nreview_scores_value             821\nreviews_per_month               756\ndtype: int64"
     },
     "execution_count": 36,
     "metadata": {},
     "output_type": "execute_result"
    }
   ],
   "source": [
    "# Null columns after the first round of cleaning\n",
    "null_value = listing_df.isnull().sum()\n",
    "null_column = null_value[null_value > 0]\n",
    "print(\"Columns with null columns: \", len(null_column))\n",
    "null_column"
   ]
  },
  {
   "cell_type": "markdown",
   "metadata": {},
   "source": [
    "## Normalize the table"
   ]
  },
  {
   "cell_type": "markdown",
   "metadata": {},
   "source": [
    "### Availability Table"
   ]
  },
  {
   "cell_type": "code",
   "execution_count": 37,
   "metadata": {},
   "outputs": [
    {
     "name": "stdout",
     "output_type": "stream",
     "text": [
      "The shape of availability table:  (3585, 3)\n"
     ]
    },
    {
     "data": {
      "text/plain": "   listing_id  availability_30  availability_90\n0    12147973                0                0\n1     3075044               26               84\n2        6976               19               61\n3     1436513                6               26\n4     7651065               13               59",
      "text/html": "<div>\n<style scoped>\n    .dataframe tbody tr th:only-of-type {\n        vertical-align: middle;\n    }\n\n    .dataframe tbody tr th {\n        vertical-align: top;\n    }\n\n    .dataframe thead th {\n        text-align: right;\n    }\n</style>\n<table border=\"1\" class=\"dataframe\">\n  <thead>\n    <tr style=\"text-align: right;\">\n      <th></th>\n      <th>listing_id</th>\n      <th>availability_30</th>\n      <th>availability_90</th>\n    </tr>\n  </thead>\n  <tbody>\n    <tr>\n      <th>0</th>\n      <td>12147973</td>\n      <td>0</td>\n      <td>0</td>\n    </tr>\n    <tr>\n      <th>1</th>\n      <td>3075044</td>\n      <td>26</td>\n      <td>84</td>\n    </tr>\n    <tr>\n      <th>2</th>\n      <td>6976</td>\n      <td>19</td>\n      <td>61</td>\n    </tr>\n    <tr>\n      <th>3</th>\n      <td>1436513</td>\n      <td>6</td>\n      <td>26</td>\n    </tr>\n    <tr>\n      <th>4</th>\n      <td>7651065</td>\n      <td>13</td>\n      <td>59</td>\n    </tr>\n  </tbody>\n</table>\n</div>"
     },
     "execution_count": 37,
     "metadata": {},
     "output_type": "execute_result"
    }
   ],
   "source": [
    "availability_table = listing_df[[\"id\", \"availability_30\", \"availability_90\"]].rename(\n",
    "    columns={\n",
    "        \"id\": \"listing_id\",\n",
    "        \"availability_30\": \"availability_30\",\n",
    "        \"availability_90\": \"availability_90\",\n",
    "    }\n",
    ")\n",
    "print(\"The shape of availability table: \", availability_table.shape)\n",
    "availability_table.head()"
   ]
  },
  {
   "cell_type": "markdown",
   "metadata": {},
   "source": [
    "### Description Table"
   ]
  },
  {
   "cell_type": "code",
   "execution_count": 38,
   "metadata": {},
   "outputs": [
    {
     "name": "stdout",
     "output_type": "stream",
     "text": [
      "The shape of description table:  (3585, 3)\n"
     ]
    },
    {
     "data": {
      "text/plain": "   listing_id                                            summary  \\\n0    12147973  Cozy, sunny, family home.  Master bedroom high...   \n1     3075044  Charming and quiet room in a second floor 1910...   \n2        6976  Come stay with a friendly, middle-aged guy in ...   \n3     1436513  Come experience the comforts of home away from...   \n4     7651065  My comfy, clean and relaxing home is one block...   \n\n                                         description  \n0  Cozy, sunny, family home.  Master bedroom high...  \n1  Charming and quiet room in a second floor 1910...  \n2  Come stay with a friendly, middle-aged guy in ...  \n3  Come experience the comforts of home away from...  \n4  My comfy, clean and relaxing home is one block...  ",
      "text/html": "<div>\n<style scoped>\n    .dataframe tbody tr th:only-of-type {\n        vertical-align: middle;\n    }\n\n    .dataframe tbody tr th {\n        vertical-align: top;\n    }\n\n    .dataframe thead th {\n        text-align: right;\n    }\n</style>\n<table border=\"1\" class=\"dataframe\">\n  <thead>\n    <tr style=\"text-align: right;\">\n      <th></th>\n      <th>listing_id</th>\n      <th>summary</th>\n      <th>description</th>\n    </tr>\n  </thead>\n  <tbody>\n    <tr>\n      <th>0</th>\n      <td>12147973</td>\n      <td>Cozy, sunny, family home.  Master bedroom high...</td>\n      <td>Cozy, sunny, family home.  Master bedroom high...</td>\n    </tr>\n    <tr>\n      <th>1</th>\n      <td>3075044</td>\n      <td>Charming and quiet room in a second floor 1910...</td>\n      <td>Charming and quiet room in a second floor 1910...</td>\n    </tr>\n    <tr>\n      <th>2</th>\n      <td>6976</td>\n      <td>Come stay with a friendly, middle-aged guy in ...</td>\n      <td>Come stay with a friendly, middle-aged guy in ...</td>\n    </tr>\n    <tr>\n      <th>3</th>\n      <td>1436513</td>\n      <td>Come experience the comforts of home away from...</td>\n      <td>Come experience the comforts of home away from...</td>\n    </tr>\n    <tr>\n      <th>4</th>\n      <td>7651065</td>\n      <td>My comfy, clean and relaxing home is one block...</td>\n      <td>My comfy, clean and relaxing home is one block...</td>\n    </tr>\n  </tbody>\n</table>\n</div>"
     },
     "execution_count": 38,
     "metadata": {},
     "output_type": "execute_result"
    }
   ],
   "source": [
    "description_table = listing_df[[\"id\", \"summary\", \"description\"]].rename(\n",
    "    columns={\n",
    "        \"id\": \"listing_id\",\n",
    "        \"summary\": \"summary\",\n",
    "        \"description\": \"description\",\n",
    "    }\n",
    ")\n",
    "print(\"The shape of description table: \", description_table.shape)\n",
    "description_table.head()"
   ]
  },
  {
   "cell_type": "markdown",
   "metadata": {},
   "source": [
    "### Neighborhood Table"
   ]
  },
  {
   "cell_type": "code",
   "execution_count": 39,
   "metadata": {},
   "outputs": [
    {
     "name": "stdout",
     "output_type": "stream",
     "text": [
      "The shape of neighborhood table:  (25, 2)\n"
     ]
    },
    {
     "data": {
      "text/plain": "  neighbourhood_cleansed  neighborhood_id\n0             Roslindale                1\n1          Jamaica Plain                2\n2           Mission Hill                3\n3  Longwood Medical Area                4\n4            Bay Village                5",
      "text/html": "<div>\n<style scoped>\n    .dataframe tbody tr th:only-of-type {\n        vertical-align: middle;\n    }\n\n    .dataframe tbody tr th {\n        vertical-align: top;\n    }\n\n    .dataframe thead th {\n        text-align: right;\n    }\n</style>\n<table border=\"1\" class=\"dataframe\">\n  <thead>\n    <tr style=\"text-align: right;\">\n      <th></th>\n      <th>neighbourhood_cleansed</th>\n      <th>neighborhood_id</th>\n    </tr>\n  </thead>\n  <tbody>\n    <tr>\n      <th>0</th>\n      <td>Roslindale</td>\n      <td>1</td>\n    </tr>\n    <tr>\n      <th>1</th>\n      <td>Jamaica Plain</td>\n      <td>2</td>\n    </tr>\n    <tr>\n      <th>2</th>\n      <td>Mission Hill</td>\n      <td>3</td>\n    </tr>\n    <tr>\n      <th>3</th>\n      <td>Longwood Medical Area</td>\n      <td>4</td>\n    </tr>\n    <tr>\n      <th>4</th>\n      <td>Bay Village</td>\n      <td>5</td>\n    </tr>\n  </tbody>\n</table>\n</div>"
     },
     "execution_count": 39,
     "metadata": {},
     "output_type": "execute_result"
    }
   ],
   "source": [
    "neighborhood_table = listing_df[[\"neighbourhood_cleansed\"]].drop_duplicates().reset_index(drop=True)\n",
    "neighborhood_table[\"neighborhood_id\"] = neighborhood_table.index + 1\n",
    "print(\"The shape of neighborhood table: \", neighborhood_table.shape)\n",
    "neighborhood_table.head()"
   ]
  },
  {
   "cell_type": "code",
   "execution_count": 40,
   "metadata": {},
   "outputs": [
    {
     "data": {
      "text/plain": "         id neighbourhood_cleansed  neighborhood_id\n0  12147973             Roslindale                1\n1   3075044             Roslindale                1\n2      6976             Roslindale                1\n3   1436513             Roslindale                1\n4   7651065             Roslindale                1",
      "text/html": "<div>\n<style scoped>\n    .dataframe tbody tr th:only-of-type {\n        vertical-align: middle;\n    }\n\n    .dataframe tbody tr th {\n        vertical-align: top;\n    }\n\n    .dataframe thead th {\n        text-align: right;\n    }\n</style>\n<table border=\"1\" class=\"dataframe\">\n  <thead>\n    <tr style=\"text-align: right;\">\n      <th></th>\n      <th>id</th>\n      <th>neighbourhood_cleansed</th>\n      <th>neighborhood_id</th>\n    </tr>\n  </thead>\n  <tbody>\n    <tr>\n      <th>0</th>\n      <td>12147973</td>\n      <td>Roslindale</td>\n      <td>1</td>\n    </tr>\n    <tr>\n      <th>1</th>\n      <td>3075044</td>\n      <td>Roslindale</td>\n      <td>1</td>\n    </tr>\n    <tr>\n      <th>2</th>\n      <td>6976</td>\n      <td>Roslindale</td>\n      <td>1</td>\n    </tr>\n    <tr>\n      <th>3</th>\n      <td>1436513</td>\n      <td>Roslindale</td>\n      <td>1</td>\n    </tr>\n    <tr>\n      <th>4</th>\n      <td>7651065</td>\n      <td>Roslindale</td>\n      <td>1</td>\n    </tr>\n  </tbody>\n</table>\n</div>"
     },
     "execution_count": 40,
     "metadata": {},
     "output_type": "execute_result"
    }
   ],
   "source": [
    "# Add Neighborhood Foreign key to listing_df\n",
    "listing_df = listing_df.merge(neighborhood_table, on=\"neighbourhood_cleansed\", how=\"left\")\n",
    "listing_df[['id', 'neighbourhood_cleansed', 'neighborhood_id']].head()"
   ]
  },
  {
   "cell_type": "markdown",
   "metadata": {},
   "source": [
    "### PropertyType Table"
   ]
  },
  {
   "cell_type": "code",
   "execution_count": 46,
   "metadata": {},
   "outputs": [
    {
     "name": "stdout",
     "output_type": "stream",
     "text": [
      "The shape of property table:  (13, 2)\n"
     ]
    },
    {
     "data": {
      "text/plain": "     property_type  property_id\n0            House            1\n1        Apartment            2\n2      Condominium            3\n3            Villa            4\n4  Bed & Breakfast            5",
      "text/html": "<div>\n<style scoped>\n    .dataframe tbody tr th:only-of-type {\n        vertical-align: middle;\n    }\n\n    .dataframe tbody tr th {\n        vertical-align: top;\n    }\n\n    .dataframe thead th {\n        text-align: right;\n    }\n</style>\n<table border=\"1\" class=\"dataframe\">\n  <thead>\n    <tr style=\"text-align: right;\">\n      <th></th>\n      <th>property_type</th>\n      <th>property_id</th>\n    </tr>\n  </thead>\n  <tbody>\n    <tr>\n      <th>0</th>\n      <td>House</td>\n      <td>1</td>\n    </tr>\n    <tr>\n      <th>1</th>\n      <td>Apartment</td>\n      <td>2</td>\n    </tr>\n    <tr>\n      <th>2</th>\n      <td>Condominium</td>\n      <td>3</td>\n    </tr>\n    <tr>\n      <th>3</th>\n      <td>Villa</td>\n      <td>4</td>\n    </tr>\n    <tr>\n      <th>4</th>\n      <td>Bed &amp; Breakfast</td>\n      <td>5</td>\n    </tr>\n  </tbody>\n</table>\n</div>"
     },
     "execution_count": 46,
     "metadata": {},
     "output_type": "execute_result"
    }
   ],
   "source": [
    "# PropertyType 表\n",
    "property_table = listing_df[[\"property_type\"]].drop_duplicates().reset_index(drop=True)\n",
    "property_table[\"property_id\"] = property_table.index + 1\n",
    "print(\"The shape of property table: \", property_table.shape)\n",
    "property_table.head()"
   ]
  },
  {
   "cell_type": "code",
   "execution_count": 42,
   "metadata": {},
   "outputs": [
    {
     "data": {
      "text/plain": "         id property_type  property_id\n0  12147973         House            1\n1   3075044     Apartment            2\n2      6976     Apartment            2\n3   1436513         House            1\n4   7651065         House            1",
      "text/html": "<div>\n<style scoped>\n    .dataframe tbody tr th:only-of-type {\n        vertical-align: middle;\n    }\n\n    .dataframe tbody tr th {\n        vertical-align: top;\n    }\n\n    .dataframe thead th {\n        text-align: right;\n    }\n</style>\n<table border=\"1\" class=\"dataframe\">\n  <thead>\n    <tr style=\"text-align: right;\">\n      <th></th>\n      <th>id</th>\n      <th>property_type</th>\n      <th>property_id</th>\n    </tr>\n  </thead>\n  <tbody>\n    <tr>\n      <th>0</th>\n      <td>12147973</td>\n      <td>House</td>\n      <td>1</td>\n    </tr>\n    <tr>\n      <th>1</th>\n      <td>3075044</td>\n      <td>Apartment</td>\n      <td>2</td>\n    </tr>\n    <tr>\n      <th>2</th>\n      <td>6976</td>\n      <td>Apartment</td>\n      <td>2</td>\n    </tr>\n    <tr>\n      <th>3</th>\n      <td>1436513</td>\n      <td>House</td>\n      <td>1</td>\n    </tr>\n    <tr>\n      <th>4</th>\n      <td>7651065</td>\n      <td>House</td>\n      <td>1</td>\n    </tr>\n  </tbody>\n</table>\n</div>"
     },
     "execution_count": 42,
     "metadata": {},
     "output_type": "execute_result"
    }
   ],
   "source": [
    "# # Add PropertyType Foreign key to listing_df\n",
    "listing_df = listing_df.merge(property_table, on=\"property_type\", how=\"left\")\n",
    "listing_df[['id', 'property_type', 'property_id']].head()"
   ]
  },
  {
   "cell_type": "markdown",
   "metadata": {},
   "source": [
    "### Review Table"
   ]
  },
  {
   "cell_type": "code",
   "execution_count": 43,
   "metadata": {},
   "outputs": [
    {
     "data": {
      "text/plain": "   listing_id  number_of_reviews  review_scores_rating  reviews_per_month\n0    12147973                  0                  94.0                NaN\n1     3075044                 36                  94.0               1.30\n2        6976                 41                  98.0               0.47\n3     1436513                  1                 100.0               1.00\n4     7651065                 29                  99.0               2.25",
      "text/html": "<div>\n<style scoped>\n    .dataframe tbody tr th:only-of-type {\n        vertical-align: middle;\n    }\n\n    .dataframe tbody tr th {\n        vertical-align: top;\n    }\n\n    .dataframe thead th {\n        text-align: right;\n    }\n</style>\n<table border=\"1\" class=\"dataframe\">\n  <thead>\n    <tr style=\"text-align: right;\">\n      <th></th>\n      <th>listing_id</th>\n      <th>number_of_reviews</th>\n      <th>review_scores_rating</th>\n      <th>reviews_per_month</th>\n    </tr>\n  </thead>\n  <tbody>\n    <tr>\n      <th>0</th>\n      <td>12147973</td>\n      <td>0</td>\n      <td>94.0</td>\n      <td>NaN</td>\n    </tr>\n    <tr>\n      <th>1</th>\n      <td>3075044</td>\n      <td>36</td>\n      <td>94.0</td>\n      <td>1.30</td>\n    </tr>\n    <tr>\n      <th>2</th>\n      <td>6976</td>\n      <td>41</td>\n      <td>98.0</td>\n      <td>0.47</td>\n    </tr>\n    <tr>\n      <th>3</th>\n      <td>1436513</td>\n      <td>1</td>\n      <td>100.0</td>\n      <td>1.00</td>\n    </tr>\n    <tr>\n      <th>4</th>\n      <td>7651065</td>\n      <td>29</td>\n      <td>99.0</td>\n      <td>2.25</td>\n    </tr>\n  </tbody>\n</table>\n</div>"
     },
     "execution_count": 43,
     "metadata": {},
     "output_type": "execute_result"
    }
   ],
   "source": [
    "# Review Table\n",
    "review_table = listing_df[[\"id\", \"number_of_reviews\", \"review_scores_rating\", \"reviews_per_month\"]].rename(\n",
    "    columns={\n",
    "        \"id\": \"listing_id\",\n",
    "        \"number_of_reviews\": \"number_of_reviews\",\n",
    "        \"review_scores_rating\": \"review_scores_rating\",\n",
    "        \"reviews_per_month\": \"reviews_per_month\",\n",
    "    }\n",
    ")\n",
    "review_table.head()"
   ]
  },
  {
   "cell_type": "markdown",
   "source": [
    "### Listings Table"
   ],
   "metadata": {
    "collapsed": false
   }
  },
  {
   "cell_type": "code",
   "execution_count": 47,
   "outputs": [
    {
     "name": "stdout",
     "output_type": "stream",
     "text": [
      "The shape of Listings table:  (3585, 12)\n"
     ]
    },
    {
     "data": {
      "text/plain": "         id                                           name  property_id  \\\n0  12147973                     Sunny Bungalow in the City            1   \n1   3075044              Charming room in pet friendly apt            2   \n2      6976               Mexican Folk Art Haven in Boston            2   \n3   1436513  Spacious Sunny Bedroom Suite in Historic Home            1   \n4   7651065                            Come Home to Boston            1   \n\n    host_id  neighborhood_id  zipcode  accommodates  bedrooms  minimum_nights  \\\n0  31303940                1    02131             4       2.0               2   \n1   2572247                1    02131             2       1.0               2   \n2     16701                1    02131             2       1.0               3   \n3   6031442                1  Unknown             4       1.0               1   \n4  15396970                1    02131             2       1.0               2   \n\n     price  availability_30  availability_90  \n0  $250.00                0                0  \n1   $65.00               26               84  \n2   $65.00               19               61  \n3   $75.00                6               26  \n4   $79.00               13               59  ",
      "text/html": "<div>\n<style scoped>\n    .dataframe tbody tr th:only-of-type {\n        vertical-align: middle;\n    }\n\n    .dataframe tbody tr th {\n        vertical-align: top;\n    }\n\n    .dataframe thead th {\n        text-align: right;\n    }\n</style>\n<table border=\"1\" class=\"dataframe\">\n  <thead>\n    <tr style=\"text-align: right;\">\n      <th></th>\n      <th>id</th>\n      <th>name</th>\n      <th>property_id</th>\n      <th>host_id</th>\n      <th>neighborhood_id</th>\n      <th>zipcode</th>\n      <th>accommodates</th>\n      <th>bedrooms</th>\n      <th>minimum_nights</th>\n      <th>price</th>\n      <th>availability_30</th>\n      <th>availability_90</th>\n    </tr>\n  </thead>\n  <tbody>\n    <tr>\n      <th>0</th>\n      <td>12147973</td>\n      <td>Sunny Bungalow in the City</td>\n      <td>1</td>\n      <td>31303940</td>\n      <td>1</td>\n      <td>02131</td>\n      <td>4</td>\n      <td>2.0</td>\n      <td>2</td>\n      <td>$250.00</td>\n      <td>0</td>\n      <td>0</td>\n    </tr>\n    <tr>\n      <th>1</th>\n      <td>3075044</td>\n      <td>Charming room in pet friendly apt</td>\n      <td>2</td>\n      <td>2572247</td>\n      <td>1</td>\n      <td>02131</td>\n      <td>2</td>\n      <td>1.0</td>\n      <td>2</td>\n      <td>$65.00</td>\n      <td>26</td>\n      <td>84</td>\n    </tr>\n    <tr>\n      <th>2</th>\n      <td>6976</td>\n      <td>Mexican Folk Art Haven in Boston</td>\n      <td>2</td>\n      <td>16701</td>\n      <td>1</td>\n      <td>02131</td>\n      <td>2</td>\n      <td>1.0</td>\n      <td>3</td>\n      <td>$65.00</td>\n      <td>19</td>\n      <td>61</td>\n    </tr>\n    <tr>\n      <th>3</th>\n      <td>1436513</td>\n      <td>Spacious Sunny Bedroom Suite in Historic Home</td>\n      <td>1</td>\n      <td>6031442</td>\n      <td>1</td>\n      <td>Unknown</td>\n      <td>4</td>\n      <td>1.0</td>\n      <td>1</td>\n      <td>$75.00</td>\n      <td>6</td>\n      <td>26</td>\n    </tr>\n    <tr>\n      <th>4</th>\n      <td>7651065</td>\n      <td>Come Home to Boston</td>\n      <td>1</td>\n      <td>15396970</td>\n      <td>1</td>\n      <td>02131</td>\n      <td>2</td>\n      <td>1.0</td>\n      <td>2</td>\n      <td>$79.00</td>\n      <td>13</td>\n      <td>59</td>\n    </tr>\n  </tbody>\n</table>\n</div>"
     },
     "execution_count": 47,
     "metadata": {},
     "output_type": "execute_result"
    }
   ],
   "source": [
    "# Add Property Foreign key to listing_df\n",
    "listing_df = listing_df.merge(property_table, on=\"property_type\", how=\"left\")\n",
    "\n",
    "# Normalize Listings table\n",
    "listings_table = listing_df[[\n",
    "    \"id\", \"name\", \"property_id\", \"host_id\", \"neighborhood_id\", \"zipcode\",\n",
    "    \"accommodates\", \"bedrooms\", \"minimum_nights\", \"price\", \"availability_30\", \"availability_90\"\n",
    "]].drop_duplicates().reset_index(drop=True)\n",
    "print(\"The shape of Listings table: \", listings_table.shape)\n",
    "listings_table.head()"
   ],
   "metadata": {
    "collapsed": false
   }
  },
  {
   "cell_type": "markdown",
   "source": [
    "### Host Table"
   ],
   "metadata": {
    "collapsed": false
   }
  },
  {
   "cell_type": "code",
   "execution_count": 48,
   "outputs": [
    {
     "name": "stdout",
     "output_type": "stream",
     "text": [
      "The shape of Host table:  (2346, 8)\n"
     ]
    },
    {
     "data": {
      "text/plain": "    host_id host_name  host_since  host_response_rate host_acceptance_rate  \\\n0  31303940  Virginia  2015-04-15                 1.0                  NaN   \n1   2572247    Andrea  2012-06-07                 1.0                 100%   \n2     16701      Phil  2009-05-11                 1.0                  88%   \n3   6031442    Meghna  2013-04-21                 1.0                  50%   \n4  15396970     Linda  2014-05-11                 1.0                 100%   \n\n  host_is_superhost  host_total_listings_count  neighborhood_id  \n0                 f                          1                1  \n1                 f                          1                1  \n2                 t                          1                1  \n3                 f                          1                1  \n4                 t                          1                1  ",
      "text/html": "<div>\n<style scoped>\n    .dataframe tbody tr th:only-of-type {\n        vertical-align: middle;\n    }\n\n    .dataframe tbody tr th {\n        vertical-align: top;\n    }\n\n    .dataframe thead th {\n        text-align: right;\n    }\n</style>\n<table border=\"1\" class=\"dataframe\">\n  <thead>\n    <tr style=\"text-align: right;\">\n      <th></th>\n      <th>host_id</th>\n      <th>host_name</th>\n      <th>host_since</th>\n      <th>host_response_rate</th>\n      <th>host_acceptance_rate</th>\n      <th>host_is_superhost</th>\n      <th>host_total_listings_count</th>\n      <th>neighborhood_id</th>\n    </tr>\n  </thead>\n  <tbody>\n    <tr>\n      <th>0</th>\n      <td>31303940</td>\n      <td>Virginia</td>\n      <td>2015-04-15</td>\n      <td>1.0</td>\n      <td>NaN</td>\n      <td>f</td>\n      <td>1</td>\n      <td>1</td>\n    </tr>\n    <tr>\n      <th>1</th>\n      <td>2572247</td>\n      <td>Andrea</td>\n      <td>2012-06-07</td>\n      <td>1.0</td>\n      <td>100%</td>\n      <td>f</td>\n      <td>1</td>\n      <td>1</td>\n    </tr>\n    <tr>\n      <th>2</th>\n      <td>16701</td>\n      <td>Phil</td>\n      <td>2009-05-11</td>\n      <td>1.0</td>\n      <td>88%</td>\n      <td>t</td>\n      <td>1</td>\n      <td>1</td>\n    </tr>\n    <tr>\n      <th>3</th>\n      <td>6031442</td>\n      <td>Meghna</td>\n      <td>2013-04-21</td>\n      <td>1.0</td>\n      <td>50%</td>\n      <td>f</td>\n      <td>1</td>\n      <td>1</td>\n    </tr>\n    <tr>\n      <th>4</th>\n      <td>15396970</td>\n      <td>Linda</td>\n      <td>2014-05-11</td>\n      <td>1.0</td>\n      <td>100%</td>\n      <td>t</td>\n      <td>1</td>\n      <td>1</td>\n    </tr>\n  </tbody>\n</table>\n</div>"
     },
     "execution_count": 48,
     "metadata": {},
     "output_type": "execute_result"
    }
   ],
   "source": [
    "host_table = listing_df[[\n",
    "    \"host_id\", \"host_name\", \"host_since\", \"host_response_rate\",\n",
    "    \"host_acceptance_rate\", \"host_is_superhost\",\n",
    "    \"host_total_listings_count\", \"neighborhood_id\"\n",
    "]].drop_duplicates().reset_index(drop=True)\n",
    "print(\"The shape of Host table: \", host_table.shape)\n",
    "host_table.head()"
   ],
   "metadata": {
    "collapsed": false
   }
  },
  {
   "cell_type": "markdown",
   "source": [
    "### Calendar Table"
   ],
   "metadata": {
    "collapsed": false
   }
  },
  {
   "cell_type": "code",
   "execution_count": 49,
   "outputs": [
    {
     "data": {
      "text/plain": "   listing_id        date available price\n0    12147973  2017-09-05         f   NaN\n1    12147973  2017-09-04         f   NaN\n2    12147973  2017-09-03         f   NaN\n3    12147973  2017-09-02         f   NaN\n4    12147973  2017-09-01         f   NaN",
      "text/html": "<div>\n<style scoped>\n    .dataframe tbody tr th:only-of-type {\n        vertical-align: middle;\n    }\n\n    .dataframe tbody tr th {\n        vertical-align: top;\n    }\n\n    .dataframe thead th {\n        text-align: right;\n    }\n</style>\n<table border=\"1\" class=\"dataframe\">\n  <thead>\n    <tr style=\"text-align: right;\">\n      <th></th>\n      <th>listing_id</th>\n      <th>date</th>\n      <th>available</th>\n      <th>price</th>\n    </tr>\n  </thead>\n  <tbody>\n    <tr>\n      <th>0</th>\n      <td>12147973</td>\n      <td>2017-09-05</td>\n      <td>f</td>\n      <td>NaN</td>\n    </tr>\n    <tr>\n      <th>1</th>\n      <td>12147973</td>\n      <td>2017-09-04</td>\n      <td>f</td>\n      <td>NaN</td>\n    </tr>\n    <tr>\n      <th>2</th>\n      <td>12147973</td>\n      <td>2017-09-03</td>\n      <td>f</td>\n      <td>NaN</td>\n    </tr>\n    <tr>\n      <th>3</th>\n      <td>12147973</td>\n      <td>2017-09-02</td>\n      <td>f</td>\n      <td>NaN</td>\n    </tr>\n    <tr>\n      <th>4</th>\n      <td>12147973</td>\n      <td>2017-09-01</td>\n      <td>f</td>\n      <td>NaN</td>\n    </tr>\n  </tbody>\n</table>\n</div>"
     },
     "execution_count": 49,
     "metadata": {},
     "output_type": "execute_result"
    }
   ],
   "source": [
    "calendar_df = pd.read_csv(\"original_data/calendar.csv\")\n",
    "calendar_df.head()"
   ],
   "metadata": {
    "collapsed": false
   }
  },
  {
   "cell_type": "markdown",
   "metadata": {},
   "source": [
    "## Export the Data"
   ]
  },
  {
   "cell_type": "code",
   "execution_count": 44,
   "metadata": {},
   "outputs": [
    {
     "name": "stdout",
     "output_type": "stream",
     "text": [
      "All tables are exported successfully!\n"
     ]
    }
   ],
   "source": [
    "# availability_table.to_csv('availability_table.csv', index=False)\n",
    "# description_table.to_csv('description_table.csv', index=False)\n",
    "# neighborhood_table.to_csv('neighborhood_table.csv', index=False)\n",
    "# property_table.to_csv('property_type_table.csv', index=False)\n",
    "# review_table.to_csv('review_table.csv', index=False)\n",
    "listings_table.to_csv('listings_table.csv', index=False)\n",
    "host_table.to_csv('host_table.csv', index=False)\n",
    "\n",
    "print(\"All tables are exported successfully!\")"
   ]
  }
 ],
 "metadata": {
  "kernelspec": {
   "display_name": "spacy",
   "language": "python",
   "name": "python3"
  },
  "language_info": {
   "codemirror_mode": {
    "name": "ipython",
    "version": 3
   },
   "file_extension": ".py",
   "mimetype": "text/x-python",
   "name": "python",
   "nbconvert_exporter": "python",
   "pygments_lexer": "ipython3",
   "version": "3.12.7"
  }
 },
 "nbformat": 4,
 "nbformat_minor": 2
}
